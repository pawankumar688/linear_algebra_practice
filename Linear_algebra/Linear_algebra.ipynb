{
 "cells": [
  {
   "cell_type": "markdown",
   "id": "ab114a7b-dca9-4e37-a79b-ba4fdb75dd65",
   "metadata": {},
   "source": [
    "# Practice Linear Algebra:\n",
    "\n",
    "## Topic we are going to cover:\n",
    "\n",
    "### 1) Dot Product\n",
    "### 2) Scaler Multiplication\n",
    "### 3) Projection\n",
    "### 4) Transpose\n",
    "### 5) Determinant of metrics\n",
    "### 6) Inverse\n",
    "### 7) Row echlone method\n",
    "### 8) Inverse method\n",
    "### 9) Eigen Vectore\n",
    "\n",
    "## Purpose Of Doing This:\n",
    "        It is simple, Math is one of the complicated subject for the beginners who want to become ML Engineer or Data Scientist, but when some come across to the math they just lose the drive to become one, for them it is hard and I'm not a exception too, It is hard for me too, but I can't just give up on my dream, so after the learning the basics of math which will be used in Machine Lerning or Deep Learning, It's also important how it is looks in code form, so I doing exactly same thing, it's just for practice and understanding the basics of math which will be one of the base layer of \" House Of My Dreams \", (sounds clishe right?) I know, so for that I doning best to understand everything about the basics and will proceed to the next stage, THANK YOU FOR YOUR TIME."
   ]
  },
  {
   "cell_type": "code",
   "execution_count": 1,
   "id": "17a701dd-ccbf-4c5c-96e9-f4a54449f791",
   "metadata": {},
   "outputs": [
    {
     "name": "stdout",
     "output_type": "stream",
     "text": [
      "Requirement already satisfied: scipy in c:\\users\\pmyls\\anaconda3\\lib\\site-packages (1.11.1)\n",
      "Requirement already satisfied: numpy<1.28.0,>=1.21.6 in c:\\users\\pmyls\\anaconda3\\lib\\site-packages (from scipy) (1.24.3)\n"
     ]
    }
   ],
   "source": [
    "!pip install scipy\n",
    "import matplotlib.pyplot as plt"
   ]
  },
  {
   "cell_type": "markdown",
   "id": "acc9c326-8b59-4145-8df0-439a340b59fa",
   "metadata": {},
   "source": [
    "# Linear Algebra - Dot Product:"
   ]
  },
  {
   "cell_type": "code",
   "execution_count": 2,
   "id": "e71aa2bd-d9f9-47e1-bf54-ddff1a862c7d",
   "metadata": {},
   "outputs": [],
   "source": [
    "import numpy as np\n",
    "def dot_product(v1, v2):\n",
    "    return sum(a*b for a,b in zip(v1, v2))"
   ]
  },
  {
   "cell_type": "code",
   "execution_count": 3,
   "id": "57b84bc8-2705-4e21-a954-28e70689e41c",
   "metadata": {},
   "outputs": [
    {
     "name": "stdout",
     "output_type": "stream",
     "text": [
      "1378\n"
     ]
    }
   ],
   "source": [
    "v1 = [1,5,9,7]\n",
    "v2 = [77,34,65,78]\n",
    "dp = dot_product(v1,v2)\n",
    "print(dp)"
   ]
  },
  {
   "cell_type": "markdown",
   "id": "935bd6e4-7c78-42a6-9eb8-bc9a3d1a0ff1",
   "metadata": {},
   "source": [
    "# Linear Algebra - Scaler Multiplication"
   ]
  },
  {
   "cell_type": "code",
   "execution_count": 4,
   "id": "0c896c07-f061-42b0-be3b-6e45f84f8c85",
   "metadata": {},
   "outputs": [],
   "source": [
    "def scaler_mul(scaler, vector):\n",
    "    return [scaler*a for a in vector]"
   ]
  },
  {
   "cell_type": "code",
   "execution_count": 5,
   "id": "ef19f2c7-c3ea-4b0b-886f-5cc0fc146bec",
   "metadata": {},
   "outputs": [
    {
     "name": "stdout",
     "output_type": "stream",
     "text": [
      "[5, 15, 275, 30]\n"
     ]
    }
   ],
   "source": [
    "vector = [1,3,55,6]\n",
    "scaler = 5\n",
    "sm = scaler_mul(scaler,vector)\n",
    "print(sm)"
   ]
  },
  {
   "cell_type": "code",
   "execution_count": 6,
   "id": "91e3dcb4-ec4f-46e8-878d-e048f90bb330",
   "metadata": {},
   "outputs": [],
   "source": [
    "def scaler_mul_exp(scalar, vector):\n",
    "    return [scalar*a for a in vector]"
   ]
  },
  {
   "cell_type": "markdown",
   "id": "bd41ad52-c204-4030-a03f-acb7253273da",
   "metadata": {},
   "source": [
    "# Some Practice"
   ]
  },
  {
   "cell_type": "code",
   "execution_count": 7,
   "id": "08c8f61f-0eb9-4c3f-b3db-cb3344a4e5e3",
   "metadata": {},
   "outputs": [
    {
     "name": "stdout",
     "output_type": "stream",
     "text": [
      "[6, 102, 18, 231]\n"
     ]
    }
   ],
   "source": [
    "vector = [2,34,6,77]\n",
    "scalar = 3\n",
    "res = scaler_mul_exp(scalar, vector)\n",
    "print(res)"
   ]
  },
  {
   "cell_type": "markdown",
   "id": "ed39cc2c-33ef-4fba-8187-9bfee1c85903",
   "metadata": {},
   "source": [
    "# Linear Algebra - Projection"
   ]
  },
  {
   "cell_type": "code",
   "execution_count": 8,
   "id": "5db2cd90-4012-4160-8ed2-8730262011d4",
   "metadata": {},
   "outputs": [
    {
     "name": "stdout",
     "output_type": "stream",
     "text": [
      "[3.0, 0.0]\n"
     ]
    }
   ],
   "source": [
    "def projection(vector, onto):\n",
    "    dot_prod = dot_product(vector, onto)\n",
    "    onto_dot_onto = dot_product(onto, onto)\n",
    "    scalar = dot_prod / onto_dot_onto if onto_dot_onto !=0 else 0\n",
    "    return scaler_mul(scalar, onto)\n",
    "vector1 = [3, 4]\n",
    "vector2 = [1, 0]\n",
    "proj = projection(vector1, vector2)\n",
    "print (proj)"
   ]
  },
  {
   "cell_type": "code",
   "execution_count": 9,
   "id": "652c5a85-a939-48a6-a0db-2e12da2a61d9",
   "metadata": {},
   "outputs": [
    {
     "name": "stdout",
     "output_type": "stream",
     "text": [
      "Projection of A onto B: [3.0, 0.0]\n"
     ]
    }
   ],
   "source": [
    "vector1 = [3, 4]\n",
    "vector2 = [1, 0]\n",
    "proj = projection(vector1, vector2)\n",
    "print(\"Projection of A onto B:\", proj)"
   ]
  },
  {
   "cell_type": "code",
   "execution_count": 10,
   "id": "e5e4d9d4-5c4a-478d-be9d-aef112c5ddc9",
   "metadata": {},
   "outputs": [
    {
     "name": "stdout",
     "output_type": "stream",
     "text": [
      "Projection of A onto B: [3.0, 0.0]\n"
     ]
    }
   ],
   "source": [
    "def projection1(vector, onto):\n",
    "    dot_prod = dot_product(vector, onto)\n",
    "    onto_dot_onto = dot_product(onto, onto)\n",
    "    scalar = dot_prod / onto_dot_onto if onto_dot_onto != 0 else 0\n",
    "    return scaler_mul(scalar, onto)\n",
    "\n",
    "# Example vectors\n",
    "vector_a = [3, 4]\n",
    "vector_b = [1, 0]\n",
    "\n",
    "# Calculate projection of A onto B\n",
    "result = projection1(vector_a, vector_b)\n",
    "print(\"Projection of A onto B:\", result)"
   ]
  },
  {
   "cell_type": "code",
   "execution_count": 11,
   "id": "9681a71f-d173-4b43-b7aa-170ccbdeb894",
   "metadata": {},
   "outputs": [],
   "source": [
    "def projection2 (vec, into):\n",
    "    into_dot = dot_product(vec, into)\n",
    "    into_dot_into = dot_product(into, into)\n",
    "    scalar = into_dot/into_dot_into if into!=0 else 0\n",
    "    return scaler_mul(scalar, into)"
   ]
  },
  {
   "cell_type": "code",
   "execution_count": 12,
   "id": "ae61926a-8870-4b65-beb8-6571dba40108",
   "metadata": {},
   "outputs": [
    {
     "name": "stdout",
     "output_type": "stream",
     "text": [
      "[3.0, 0.0]\n"
     ]
    }
   ],
   "source": [
    "vec1=[3,2]\n",
    "vec2=[1,0]\n",
    "res = projection2(vec1,vec2)\n",
    "print(res)"
   ]
  },
  {
   "cell_type": "markdown",
   "id": "4b72081c-66dc-41b2-9bc2-b440f9a3c211",
   "metadata": {},
   "source": [
    "# linear algebra - Metrics Operations\n",
    "# Transpose"
   ]
  },
  {
   "cell_type": "code",
   "execution_count": 13,
   "id": "32782754-47bc-40d6-a35c-1889427a7539",
   "metadata": {},
   "outputs": [
    {
     "name": "stdout",
     "output_type": "stream",
     "text": [
      "[[42 45]\n",
      " [77  3]]\n",
      "Transpose of a:  [[42 77]\n",
      " [45  3]]\n"
     ]
    }
   ],
   "source": [
    "a = np.array([[42,45],[77,3]])\n",
    "trans = a.T\n",
    "print(a)\n",
    "print('Transpose of a: ',trans)"
   ]
  },
  {
   "cell_type": "markdown",
   "id": "7fcc14d0-81d8-4eb6-8122-ff5859e176dd",
   "metadata": {},
   "source": [
    "# Determinant of metrics"
   ]
  },
  {
   "cell_type": "code",
   "execution_count": 14,
   "id": "0b4f24ff-503f-42f0-a1a9-7de26c147f7d",
   "metadata": {},
   "outputs": [
    {
     "name": "stdout",
     "output_type": "stream",
     "text": [
      "[[42 45]\n",
      " [77  3]]\n",
      "detrminant of metrics of a:  -3338.9999999999986\n"
     ]
    }
   ],
   "source": [
    "a = np.array([[42,45],[77,3]])\n",
    "det_met = np.linalg.det(a)\n",
    "print(a)\n",
    "print('detrminant of metrics of a: ',det_met)"
   ]
  },
  {
   "cell_type": "markdown",
   "id": "11dabd07-9d1d-42de-8dea-c43ab58b1877",
   "metadata": {},
   "source": [
    "# Inverse"
   ]
  },
  {
   "cell_type": "code",
   "execution_count": 15,
   "id": "26e36695-0283-48f2-8da8-8abe84424c13",
   "metadata": {},
   "outputs": [
    {
     "name": "stdout",
     "output_type": "stream",
     "text": [
      "[[42 45]\n",
      " [77  3]]\n",
      "inverse of metrics of a:  [[-0.00089847  0.01347709]\n",
      " [ 0.0230608  -0.01257862]]\n"
     ]
    }
   ],
   "source": [
    "a = np.array([[42,45],[77,3]])\n",
    "inv_met = np.linalg.inv(a)\n",
    "print(a)\n",
    "print('inverse of metrics of a: ',inv_met)"
   ]
  },
  {
   "cell_type": "markdown",
   "id": "64c1183a-232e-4337-9b9f-4c9373936502",
   "metadata": {},
   "source": [
    "# linear algebra - vector as metrics\n",
    "### Row Echlone Method"
   ]
  },
  {
   "cell_type": "code",
   "execution_count": 16,
   "id": "da68f68d-7032-4695-9bcf-715550f0ce37",
   "metadata": {},
   "outputs": [],
   "source": [
    "x = np.asarray([[1,2,3,4], [5,6,7,8], [9,10,11,12]])"
   ]
  },
  {
   "cell_type": "code",
   "execution_count": 17,
   "id": "d4f1bf18-1de3-4ff9-85cb-4933c070292e",
   "metadata": {},
   "outputs": [
    {
     "name": "stdout",
     "output_type": "stream",
     "text": [
      "[[ 1  2  3  4]\n",
      " [ 5  6  7  8]\n",
      " [ 9 10 11 12]]\n"
     ]
    }
   ],
   "source": [
    "print(x)"
   ]
  },
  {
   "cell_type": "code",
   "execution_count": 18,
   "id": "6664f59e-2890-41dd-9f9a-b23cc8f15408",
   "metadata": {},
   "outputs": [
    {
     "name": "stdout",
     "output_type": "stream",
     "text": [
      "3\n",
      "4\n"
     ]
    }
   ],
   "source": [
    "row , col = x.shape\n",
    "print(row)\n",
    "print(col)"
   ]
  },
  {
   "cell_type": "code",
   "execution_count": 19,
   "id": "463c2415-7a12-4d1c-a17e-67593ce64e42",
   "metadata": {},
   "outputs": [
    {
     "name": "stdout",
     "output_type": "stream",
     "text": [
      "pivot is:  3\n",
      "x[i] value is :  [1 2 3 4]\n",
      "x[i, pivot] value is :  4\n",
      "x[j] value is :  [5 6 7 0]\n",
      "x[j] value is :  [ 9 10 11  0]\n",
      "pivot is:  2\n",
      "x[i] value is :  [5 6 7 0]\n",
      "x[i, pivot] value is :  7\n",
      "x[j] value is :  [0 0 0 1]\n",
      "x[j] value is :  [ 9 10  0  0]\n",
      "pivot is:  1\n",
      "x[i] value is :  [ 9 10  0  0]\n",
      "x[i, pivot] value is :  10\n",
      "x[j] value is :  [0 0 0 1]\n",
      "x[j] value is :  [0 0 1 0]\n",
      "row echolen method of metrics: \n",
      "[[0 0 0 1]\n",
      " [0 0 1 0]\n",
      " [0 1 0 0]]\n"
     ]
    }
   ],
   "source": [
    "for i in range(row):\n",
    "    pivot = np.argmax(x[i])\n",
    "    print('pivot is: ',pivot)\n",
    "    print('x[i] value is : ', x[i])\n",
    "    print('x[i, pivot] value is : ', x[i, pivot])\n",
    "    x[i] = x[i] / x[i,pivot]\n",
    "\n",
    "    for j in range(row):\n",
    "        if j != i:\n",
    "            x[j] = x[j] - x[j, pivot]*x[i]\n",
    "            print('x[j] value is : ', x[j])\n",
    "print('row echolen method of metrics: ')\n",
    "print(x)"
   ]
  },
  {
   "cell_type": "markdown",
   "id": "7f8d4ab3-2561-4b9f-8954-c75380194532",
   "metadata": {},
   "source": [
    "### In Simple Form"
   ]
  },
  {
   "cell_type": "code",
   "execution_count": 20,
   "id": "781d97b0-a6dd-4162-814d-6dd632a96cd7",
   "metadata": {},
   "outputs": [
    {
     "name": "stdout",
     "output_type": "stream",
     "text": [
      "row echolen method of metrics: \n",
      "[[0 0 0 1]\n",
      " [0 0 1 0]\n",
      " [0 1 0 0]]\n"
     ]
    }
   ],
   "source": [
    "a = np.asarray([[11,22,33,44], [55,66,77,88], [99,110,220,330]])\n",
    "row, col = a.shape\n",
    "for i in range(row):\n",
    "    pivot = np.argmax(a[i])\n",
    "    a[i] = a[i] / a[i,pivot]\n",
    "    for j in range(row):\n",
    "        if j!=i:\n",
    "            a[j] = a[j] - a[j, pivot]*a[i]\n",
    "print('row echolen method of metrics: ')\n",
    "print(a)"
   ]
  },
  {
   "cell_type": "markdown",
   "id": "37ae63a0-96ea-44ff-bdbb-ae0783cfccda",
   "metadata": {},
   "source": [
    "### Echolen Method Practice:"
   ]
  },
  {
   "cell_type": "code",
   "execution_count": 21,
   "id": "c3aeed19-c310-4e26-8cb2-c7319562d4ad",
   "metadata": {},
   "outputs": [
    {
     "name": "stdout",
     "output_type": "stream",
     "text": [
      "Row echolen method: \n",
      "[[0 0 1]\n",
      " [0 1 0]\n",
      " [1 0 0]]\n"
     ]
    }
   ],
   "source": [
    "a = np.asarray([[1, 2, 3], [4, 5, 6], [7, 8, 9]])\n",
    "\n",
    "rows , columns = a.shape\n",
    "for i in range(rows):\n",
    "    pivot = np.argmax(a[i])\n",
    "    a[i] = a[i] / a[i,pivot]\n",
    "    for j in range(rows):\n",
    "        if j != i:\n",
    "            a[j] = a[j] - a[j, pivot]*a[i]\n",
    "print('Row echolen method: ')\n",
    "print(a)"
   ]
  },
  {
   "cell_type": "markdown",
   "id": "bf8f4031-8415-4492-92b4-c63301684526",
   "metadata": {},
   "source": [
    "### Inverse method"
   ]
  },
  {
   "cell_type": "code",
   "execution_count": 22,
   "id": "ff03d327-b6fe-48d3-97b3-3107c08c3941",
   "metadata": {},
   "outputs": [],
   "source": [
    "from scipy.special import erfinv\n",
    "# erfinv stands for \"inverse error function\""
   ]
  },
  {
   "cell_type": "code",
   "execution_count": 23,
   "id": "cd804085-2698-46bf-9b95-c355291ce9ab",
   "metadata": {},
   "outputs": [
    {
     "data": {
      "image/png": "[encoded data removed]",
      "text/plain": [
       "<Figure size 640x480 with 1 Axes>"
      ]
     },
     "metadata": {},
     "output_type": "display_data"
    }
   ],
   "source": [
    "random_samples = np.random.rand(1000)\n",
    "def product(p):\n",
    "    return np.sqrt(2) * erfinv(2 * p - 1)\n",
    "result = product(random_samples)\n",
    "plt.hist(result)\n",
    "plt.title(\"Inverse Method\")\n",
    "plt.xlabel('a')\n",
    "plt.ylabel('b')\n",
    "plt.show()"
   ]
  },
  {
   "cell_type": "code",
   "execution_count": 24,
   "id": "0226e005-90e6-4090-ba0a-c892750131c6",
   "metadata": {},
   "outputs": [
    {
     "name": "stdout",
     "output_type": "stream",
     "text": [
      "[-9.95920067e-01  1.11701271e+00 -1.73714460e+00 -1.42674806e+00\n",
      "  1.14691645e+00  1.12017756e+00  2.97202373e+00  1.69002860e-01\n",
      " -3.96022535e-01 -1.02211557e+00  6.37664207e-01  5.11218670e-01\n",
      "  6.73912102e-01 -6.41317119e-01 -3.89717503e-01  1.13193837e+00\n",
      " -1.60351706e+00  1.76785256e-03 -1.12559082e+00  2.24479149e-01\n",
      "  6.14919644e-01 -9.01679687e-01 -8.67916352e-03 -4.35981995e-01\n",
      "  3.48303426e-01  1.15879872e-01 -4.10483279e-01 -1.83759760e-01\n",
      " -1.24073494e+00 -2.13343381e-01 -2.18511341e-02  1.97840459e+00\n",
      "  7.15112268e-01  1.60342992e+00 -1.27338941e-01 -1.27185769e+00\n",
      "  4.53963918e-01 -4.25796447e-01 -7.26504205e-01  8.60931796e-02\n",
      " -1.03752519e+00  7.12139209e-01 -4.57367154e-01  7.47394647e-01\n",
      "  1.63227738e+00 -3.57780674e-01 -1.97742471e+00 -1.21282743e+00\n",
      " -7.32471897e-01 -4.73732818e-01  6.07581759e-02  3.25164025e-01\n",
      "  3.81345934e-01  2.92117367e-01 -1.53155127e+00 -2.21590659e+00\n",
      "  4.49352966e-01 -3.04311034e-01  1.72341882e+00  1.55760184e-01\n",
      "  1.18056508e+00  1.37493176e+00  1.03501845e+00 -1.41421812e+00\n",
      " -2.60472404e-01  8.48458832e-01 -2.19457004e-01  2.37648560e-01\n",
      " -1.37654149e+00  1.54076041e+00 -7.75557684e-02  9.84642975e-01\n",
      " -1.90518482e-01 -9.77790817e-02  4.55693154e-01 -2.44711140e+00\n",
      "  1.28914822e+00 -1.03943749e+00  3.08109467e-01 -6.90157128e-02\n",
      " -7.26114318e-02 -5.52746315e-01 -2.05611763e-01 -1.52005000e+00\n",
      " -1.05347301e-01  8.01937430e-01 -7.13079681e-01  9.34676073e-01\n",
      "  7.85507216e-01  5.08760905e-01  6.48758798e-02  3.89648693e-01\n",
      "  2.01458443e-01  8.74902953e-01 -3.40054256e-01  1.13822068e+00\n",
      " -3.33184509e-01 -1.72790852e+00  4.56926261e-01 -1.00210345e+00\n",
      " -8.07286771e-01 -6.65360299e-01  2.13831437e+00  4.99630691e-01\n",
      " -1.30334825e+00  5.41359587e-01 -7.21997003e-01 -7.79769228e-01\n",
      "  4.66918541e-02 -5.59103376e-01 -6.60675316e-01  1.54255551e+00\n",
      "  1.45727480e+00 -6.59776528e-01 -1.26381386e-01  1.55138675e+00\n",
      " -2.40206740e-01 -1.06510657e+00 -2.49113191e+00 -1.23209630e+00\n",
      "  8.12667066e-01 -1.29284168e+00 -2.46514541e-01 -1.29055242e+00\n",
      "  3.04573599e-01 -1.84162405e-01  5.95650898e-01  5.40421546e-02\n",
      " -2.61358291e-02  8.45769638e-01  2.83917220e+00 -9.18175214e-01\n",
      " -6.47074788e-02 -1.65666778e+00  8.39905398e-01 -1.07850391e+00\n",
      " -1.21754575e+00  1.92811356e-01 -2.11743257e+00 -1.68276535e+00\n",
      " -8.59179127e-02 -1.18624055e+00 -5.70484620e-01 -6.98578540e-01\n",
      " -2.45499039e-01  4.60654951e-01  2.29064605e+00 -7.29294600e-01\n",
      " -1.90191593e+00  1.12296609e+00  6.09564097e-01 -9.97421626e-02\n",
      "  3.96387053e-02 -2.17724692e-01  1.78981371e-01 -1.06476349e+00\n",
      "  1.20085329e+00  8.11702262e-02  7.72814381e-01  8.84120468e-01\n",
      "  1.74028339e+00 -8.02330812e-01 -3.94225656e-01  4.11537524e-01\n",
      " -1.21116681e+00 -1.16490314e+00 -1.88311261e+00 -3.88612187e-01\n",
      "  9.98567483e-01 -1.88647328e+00  1.40175213e+00  2.84677066e-01\n",
      "  8.52266457e-01  2.37145703e-01  4.34037755e-01 -5.34074329e-01\n",
      "  6.27272273e-01  1.04711530e+00 -9.88576072e-02  7.06981538e-01\n",
      "  5.28229134e-01 -9.95584403e-01  2.49970254e-01 -1.32623676e+00\n",
      "  6.08380656e-01  1.42798663e+00  8.17038649e-01  4.83481686e-01\n",
      " -1.40931516e+00  1.58639545e+00  1.02928957e+00  5.13078794e-01\n",
      "  6.79194860e-01 -1.86840308e-02  2.36572752e-01  2.34756947e+00\n",
      " -1.21489136e+00 -6.27887775e-01  6.42978649e-01  3.29053381e-01\n",
      " -3.71313800e-01  2.66356075e-01 -1.81045831e-01  7.27547191e-01\n",
      "  8.54212010e-01  9.40972229e-01 -1.85744099e-01 -1.84006333e+00\n",
      " -5.20611788e-01  1.80443394e-01 -5.27688420e-01  4.53654008e-01\n",
      "  4.36865654e-01 -1.17525199e-01 -6.34884536e-01  3.14680874e-01\n",
      " -1.37436191e+00 -1.38760799e-01  3.91982467e-02  2.53933117e-01\n",
      " -3.16730434e-01  4.35134570e-01 -5.00687973e-01  4.63735776e-01\n",
      "  1.26096402e-01  8.41508793e-01 -3.67580358e-01  1.33165679e-01\n",
      " -9.04769245e-01 -1.03313422e+00  1.75586465e+00 -1.28562092e+00\n",
      " -1.72578649e+00  2.14589232e+00 -1.90215021e-01 -1.39294522e+00\n",
      "  1.23947183e-01 -5.56658799e-01  4.54864752e-01  6.80250220e-01\n",
      " -2.04265917e-01  1.97507524e+00 -5.72088053e-01 -5.24078516e-01\n",
      "  1.91190508e+00 -4.02268088e-01  7.28512609e-01 -1.51624050e-01\n",
      "  2.12788503e-01 -3.68078086e-01 -1.90326392e-01 -1.55854343e+00\n",
      " -3.04472966e-01  9.94836500e-01 -1.31138979e+00 -9.46702629e-01\n",
      " -3.35475821e-01 -5.25209025e-01 -5.19921904e-01 -1.51719481e+00\n",
      " -1.55778854e-01  6.72710983e-01  2.38072180e-01 -1.33074814e+00\n",
      "  1.92418834e-02 -2.12035359e+00 -4.64464034e-01  2.04697654e-01\n",
      " -1.06101099e+00 -2.67851860e-01  8.19186010e-01 -9.17338143e-01\n",
      " -2.44502266e+00  9.67924999e-01 -5.81803970e-01  1.30889566e+00\n",
      " -7.87174621e-01  1.05517273e+00  1.24084769e+00 -2.67894272e-01\n",
      " -1.43035717e+00 -1.30071933e+00  5.20842663e-01  7.60112792e-01\n",
      "  1.05365139e+00 -1.92871992e+00 -9.19654068e-01 -1.23601348e-01\n",
      "  5.99108571e-01  3.92410104e-01 -2.83315378e-01 -5.62246549e-01\n",
      " -5.27624194e-01 -1.30588078e+00 -4.20260287e-01 -4.27740330e-03\n",
      " -1.82297451e+00 -7.93548662e-02  2.59035162e-01  1.35664865e+00\n",
      " -1.78850361e+00  1.49728942e+00  1.25979066e+00  1.69522580e+00\n",
      " -8.27960822e-02 -7.05335153e-01 -8.14250042e-01 -8.27420872e-01\n",
      "  3.15296631e-01 -9.13856212e-01  1.71807666e+00  9.91355909e-01\n",
      "  8.00503181e-01  1.99328168e+00  9.96387921e-01 -5.12224419e-01\n",
      "  1.00636198e+00 -1.79903162e+00  1.44618327e+00 -3.24037897e-01\n",
      " -1.50029344e-01  2.53033398e-01  3.87276648e-01  7.90978959e-02\n",
      "  4.30960325e-01 -3.42986267e-01  3.35548920e-01  4.95868097e-01\n",
      " -2.57164921e-01  7.21636534e-01  2.34840498e+00  2.79554220e+00\n",
      " -9.69265760e-02 -1.31083797e+00 -1.05799135e+00 -8.06118341e-01\n",
      " -9.09001359e-01 -2.23070325e-02 -1.39702189e+00  8.61944893e-01\n",
      "  6.19857770e-01 -5.67666053e-01  7.14119381e-01  6.87022819e-01\n",
      "  4.96783459e-01  1.60600843e+00 -4.54308959e-02 -1.02099535e+00\n",
      " -7.61892873e-01 -1.58201914e-01  6.63302683e-02  1.48408990e+00\n",
      " -1.28871955e+00  4.17143284e-01  1.17616137e+00 -6.67101147e-01\n",
      "  2.71723954e-01 -1.88645609e+00 -1.36431472e+00 -9.17207175e-01\n",
      "  5.87270918e-01  1.16573522e+00 -2.01561048e-01 -1.12250066e+00\n",
      " -1.19979305e-01 -6.23596423e-01  4.50356426e-01 -5.98898998e-01\n",
      "  3.12881955e-02  1.44489256e+00  3.04984096e-01  1.23890844e+00\n",
      " -2.30873177e-01  2.26300032e+00  7.05539150e-01  3.30302286e-01\n",
      " -6.04630911e-01 -1.11577169e+00  2.93021925e-01  1.76711370e+00\n",
      "  8.45156604e-01  6.17876729e-01  8.43139833e-01  2.48164348e+00\n",
      " -1.41613423e-01  5.09525357e-01  1.72577327e+00  2.47768089e-01\n",
      "  1.28495425e+00 -5.04610145e-02 -1.22209820e+00 -9.52588595e-01\n",
      " -1.00376157e-01 -6.29336331e-02 -2.12159809e+00 -9.72467049e-02\n",
      "  2.82726259e-01  1.78576909e-01  1.38006269e+00  1.18757015e+00\n",
      "  1.22873509e+00 -2.30185748e-01 -9.96662138e-01 -1.10543989e+00\n",
      " -1.24841076e+00  2.17524761e-01  8.63972441e-01  2.91858249e-01\n",
      " -8.54184984e-02  2.60793436e-01 -2.71617146e-01 -2.12214848e-01\n",
      " -3.69639708e-01 -3.11125574e-01 -3.73730181e-01  1.17944408e+00\n",
      "  7.92873290e-01 -6.49791970e-01  1.54066544e+00  1.23060232e+00\n",
      "  1.39155658e+00 -2.28649200e-01  6.31214702e-02 -5.17058281e-01\n",
      "  4.38819849e-01 -1.47806484e+00 -1.42895493e+00  5.20307330e-01\n",
      "  1.78875774e+00 -8.37049856e-01  4.73235783e-01 -1.49511789e-01\n",
      " -1.20997540e+00  5.44898477e-01 -6.81843362e-01 -4.62430523e-01\n",
      "  1.14951764e+00 -3.29265293e-01  6.54173850e-03 -3.39392254e-01\n",
      " -4.64336255e-01  1.88499121e-01 -1.04190796e-01 -2.29331903e-01\n",
      "  3.98427571e-01 -6.74218215e-01  1.94909387e+00 -1.14756942e+00\n",
      " -1.08873888e+00 -6.22688089e-01 -8.24695807e-01 -6.33091550e-01\n",
      " -1.61956552e+00  2.71097650e-01 -4.22350593e-01  9.05903712e-01\n",
      "  1.31588284e+00  1.16636263e-01  4.56888833e-01 -9.88458867e-01\n",
      "  8.75867158e-01  1.16954892e+00  1.57906260e+00  1.01272401e-01\n",
      "  6.77306990e-01  1.49279236e+00  1.04625116e+00  1.30335840e-01\n",
      " -7.17903357e-01 -9.34252020e-01  6.57858371e-01 -3.43497683e-01\n",
      " -1.21918281e+00 -3.76644117e-01  3.90313057e-01 -6.39246772e-01\n",
      "  6.52787403e-01 -5.23245391e-01  6.54803720e-01  3.24134433e-01\n",
      "  1.54941642e+00  2.93881581e-01 -8.06189359e-01 -5.57056922e-01\n",
      " -1.85415021e+00 -3.76954578e-01  1.49856712e+00  8.51370172e-01\n",
      " -8.69654058e-01  1.23707089e+00 -1.36058038e+00  3.17245643e-01\n",
      "  5.81452935e-01 -6.43256203e-01 -1.97883951e-01 -1.91572032e+00\n",
      "  9.35369388e-01  7.13858496e-01 -1.73039610e+00  1.53025721e-01\n",
      "  1.62094315e+00  8.87776708e-01  2.15806812e+00 -7.33488252e-01\n",
      "  8.77600911e-01  5.04753560e-01  2.85465413e-01 -5.98882645e-01\n",
      "  9.60196130e-02  2.40916639e+00 -7.10173939e-01  8.68168088e-01\n",
      " -1.39354387e+00 -5.04625494e-01  3.71250156e-01 -1.95664303e+00\n",
      "  1.90293918e-01  1.11744615e+00  1.83604830e+00 -2.13452973e-01\n",
      " -9.99115736e-01  1.69561753e-01 -3.48961447e-01  8.03544367e-01\n",
      " -1.14101545e+00  5.12236661e-01 -8.29910452e-01  1.44839575e-01\n",
      " -1.96532852e+00  7.11304960e-01  1.60203228e+00  1.53362340e-01\n",
      "  2.22436970e-01 -8.05307013e-01  8.22898569e-01 -8.87747196e-01\n",
      " -1.01563834e+00 -3.30784656e-01 -6.03709233e-01  8.30739277e-01\n",
      "  7.32591268e-01  2.17026549e+00  1.34060162e+00 -8.17842041e-01\n",
      "  1.73900784e-01  1.53516631e+00  1.23040606e+00  1.44695025e+00\n",
      " -6.97773451e-01  3.05241933e-02  1.41311985e+00  1.66051440e+00\n",
      "  1.89461291e-01  2.57463509e-01  2.52000003e-01 -1.16521770e-01\n",
      " -1.12941234e+00 -1.29681349e+00 -1.23584369e-01 -1.53137258e+00\n",
      " -1.75880202e+00 -3.42943528e-01 -8.30368077e-01  1.57265254e+00\n",
      " -1.33605618e-01  1.72946756e+00  4.40960590e-01 -4.70877617e-01\n",
      " -1.43898477e+00  2.53435513e-02 -3.88511485e-01  6.59217973e-02\n",
      "  1.09133122e+00 -2.99016539e-01 -3.88998170e-01  3.07915434e-01\n",
      " -9.47249437e-01 -2.82647468e-01  1.24167966e-01 -1.54113833e+00\n",
      "  5.94044521e-02  1.19966597e+00  6.45919913e-02  1.64018430e+00\n",
      " -1.01307261e+00 -7.14088005e-01 -3.73385411e-01 -8.84120019e-01\n",
      "  1.06696937e-02 -8.28312819e-01  1.44835030e+00 -4.67432631e-01\n",
      "  1.63246926e+00  9.88648079e-01  4.72448242e-01  2.16323303e-01\n",
      "  1.14774587e+00 -1.28019153e+00 -1.19539573e+00  5.41811093e-01\n",
      " -3.73562249e-01 -3.84034143e-01 -9.52617276e-02 -2.37338012e-01\n",
      "  6.25879585e-02 -3.54005503e-01  1.60846140e+00  1.81124226e-01\n",
      " -1.07847344e+00  1.16349132e-01  5.14651725e-01  1.66020658e+00\n",
      " -1.56397013e+00 -4.53259038e-02 -5.86644637e-01  7.65734928e-01\n",
      " -2.61851328e-01  1.75558611e-01 -5.48934038e-01  1.46484593e+00\n",
      " -4.39012220e-01  2.60472280e-01 -8.66234634e-01 -2.26663594e-01\n",
      " -5.96386712e-01  1.10870070e+00 -6.92135747e-01 -2.85913110e-01\n",
      " -1.10758523e+00 -4.94030805e-01  1.28727052e-01 -3.07786905e-01\n",
      " -1.01858310e+00 -1.60147809e+00 -6.34709760e-01  1.19231769e-01\n",
      "  5.40523107e-01  7.62722434e-01 -1.97147415e-01 -2.23533404e-01\n",
      "  1.25898307e+00  1.50353022e+00 -2.38224657e-01  1.15460548e+00\n",
      "  5.59766537e-01 -9.01373714e-02 -1.67614402e+00 -1.53468611e+00\n",
      "  2.32206341e-01  5.28503523e-01 -1.22616949e+00 -1.23735978e+00\n",
      "  6.90445292e-01  3.43552500e-01 -2.46131005e+00 -9.04576595e-01\n",
      "  1.41898865e+00  1.59935722e+00  5.69394758e-01  2.07725645e+00\n",
      " -2.85205470e-01  3.18351292e-01 -3.32091787e-01 -9.32696435e-01\n",
      " -4.77605382e-01  4.24634171e-01 -7.44346283e-01 -5.87318099e-01\n",
      " -1.40057037e+00 -6.06696881e-01  4.28940804e-01  1.61866831e+00\n",
      "  6.45315909e-01 -6.61209354e-01 -2.32316146e-02  8.60050670e-01\n",
      "  3.66934661e-01 -6.76189762e-01  1.66118063e+00  9.88993544e-01\n",
      " -1.89948348e+00  7.06115159e-01 -5.70680508e-01  3.59626485e-01\n",
      "  1.19962947e+00  5.13769795e-01 -6.90272386e-02  9.71982738e-01\n",
      "  3.64234511e-01  2.46692828e-01  6.99874134e-01 -1.55817564e+00\n",
      "  3.22957184e-02  5.80506144e-01 -4.82209738e-01 -2.53169389e-01\n",
      "  7.71132936e-01  5.87310962e-01  1.07960861e+00 -6.59168209e-01\n",
      " -4.17893782e-01 -2.80687800e-01 -1.38593212e+00 -1.78945663e+00\n",
      "  1.44300108e+00 -1.33161833e+00  4.64963159e-01  2.96548704e-01\n",
      " -1.42015856e+00 -2.82997001e+00 -1.01058904e+00 -3.45722493e-01\n",
      " -4.91011497e-02 -1.01569024e+00 -7.82182148e-01 -2.16745727e+00\n",
      " -8.82096782e-01  2.13177587e+00 -4.73639294e-01  5.01459459e-01\n",
      " -2.46301234e-01  2.61115202e-01  1.35997002e+00 -4.89022751e-02\n",
      "  1.38720406e+00 -5.37330060e-02 -8.36469623e-01  1.01741075e-01\n",
      " -3.37849938e-01  3.20354925e-01 -2.00192346e-01  2.57571704e+00\n",
      " -6.11967097e-01 -2.35664135e-01  4.10823160e-02  9.24723763e-01\n",
      "  5.87986753e-02 -6.16870893e-01 -1.27840924e+00  1.63511435e+00\n",
      "  2.44416333e+00 -5.26889396e-01  6.24376645e-02  6.99023859e-01\n",
      "  6.69665827e-01 -4.96502303e-01  2.11483351e+00  1.10772024e-01\n",
      "  6.29943272e-01  8.53853548e-01  1.34907243e+00 -3.68134593e-01\n",
      "  4.71680581e-02  1.76579844e+00  5.03425194e-01 -5.65362395e-01\n",
      "  9.04984015e-01 -3.32026504e-02 -1.14838417e+00 -2.00249383e+00\n",
      "  7.83380885e-01 -5.68238613e-02 -3.97134843e-01 -3.14541958e+00\n",
      "  1.49543474e+00  6.10751479e-01  4.50272759e-01  1.22189074e+00\n",
      "  1.02962936e-01  1.50491403e+00  2.44829667e+00  1.15588239e+00\n",
      " -8.35643452e-01 -4.26811426e-01  3.55632419e-01 -1.32348502e+00\n",
      " -1.06152316e+00 -9.98824712e-01  2.08832763e-01  7.02480917e-01\n",
      " -1.01443614e+00  7.92147548e-02  1.16784839e+00 -3.99706557e-01\n",
      " -2.96515831e-01  1.56704928e+00  2.65381037e+00 -6.31251074e-01\n",
      " -1.42562596e+00 -1.13133845e+00  4.13642910e-01  8.75554334e-01\n",
      " -5.39636014e-04 -2.62539017e-01 -5.75883619e-02 -1.65515464e+00\n",
      "  2.51535962e-01 -5.15296107e-01  1.86664528e-01 -5.73493945e-01\n",
      "  3.43323638e-01 -1.19174402e+00  1.08973554e+00 -1.17183392e+00\n",
      "  1.00791689e+00  2.16982290e+00 -2.41306936e-01  3.68942807e-02\n",
      " -5.35668137e-01 -1.04777043e+00  1.50523326e+00 -1.78112784e+00\n",
      "  3.45412219e-01  7.23674723e-01  1.90533614e+00  5.60839980e-02\n",
      "  1.06466451e+00 -1.50944353e-01  6.14082972e-01 -6.17618052e-01\n",
      "  1.06402122e+00  1.39073654e+00 -9.33034800e-01  7.60514601e-02\n",
      "  1.15175039e+00  2.02166229e+00  7.43714002e-01 -1.28725209e+00\n",
      "  4.23423804e-01  3.78105455e-02 -3.65210015e-01  1.91189272e+00\n",
      " -4.30094781e-01 -4.11584427e-01 -1.34903774e+00  1.76874078e+00\n",
      "  1.03990608e+00  7.41880330e-01 -7.69616444e-01  2.50734561e-01\n",
      "  1.90439418e-01  3.04792410e-02 -9.40730792e-01  3.76964133e-01\n",
      "  4.54040295e-02  3.12379419e-01  1.92853975e-01 -3.17860116e-01\n",
      " -1.01448525e+00  7.59833665e-01  1.16224400e+00 -9.85060499e-01\n",
      " -4.97096871e-01 -1.29736084e+00  5.18711953e-01  1.35264787e+00\n",
      "  3.72420974e-01 -3.53024198e-01  2.05110109e+00 -5.67346480e-01\n",
      "  1.83113835e+00 -5.79594554e-01 -6.54733412e-01  8.96711500e-02\n",
      " -1.28433457e+00  1.13516886e+00 -3.79818055e-01 -1.53231660e+00\n",
      " -3.73134228e-01 -3.93420227e-01  3.22631801e-01  6.86241531e-01\n",
      " -7.71690982e-01  3.42935066e-01 -9.54905830e-01  1.02315142e+00\n",
      " -1.49338323e+00 -2.41874498e+00  1.11696454e+00  1.92095114e+00\n",
      " -7.05637866e-01  7.75000949e-01  8.86797813e-02  1.09515145e+00\n",
      "  6.90668767e-01 -1.88775430e+00  8.83439433e-02  1.67351056e-01\n",
      "  4.71736153e-01  4.35636285e-01  5.47176446e-01 -1.43826868e-01\n",
      " -1.51191270e+00  1.65763195e+00 -1.83595611e-02 -1.39697890e-01\n",
      "  1.07617037e-01  8.34550270e-02 -1.22797410e+00  1.46280940e-01\n",
      "  1.14503728e-01  8.09299102e-01  5.71829199e-01  1.49819426e+00\n",
      "  9.76127032e-01 -7.87094945e-01  1.80234804e+00 -6.05917193e-01\n",
      " -1.24148723e+00 -3.27545338e-01  1.46914226e-01  1.37709204e+00\n",
      " -5.13671407e-01 -1.07998286e-01 -1.09972827e+00 -2.11267659e-01\n",
      "  6.29873980e-03  9.43005742e-01 -1.82264239e-01  3.27345879e+00\n",
      " -3.57183545e-01  4.61929096e-02  9.10304870e-01  9.77286471e-01\n",
      " -1.93040989e+00  9.63712512e-01 -1.72156604e-01  6.72123730e-01\n",
      " -2.96784239e-01  1.29827131e+00  5.38332554e-01 -7.27677945e-01\n",
      "  2.70610516e-01  5.52662849e-01  5.09598832e-01  5.12525110e-01\n",
      " -1.81421833e-01 -1.25779718e+00  1.27986174e-01 -1.53820743e+00\n",
      "  4.94306859e-02  1.52157819e+00 -1.31717797e+00 -1.76224611e+00\n",
      "  3.17530526e-01  2.29684561e-02  7.73798648e-01 -9.28875569e-02\n",
      "  7.62286733e-01  1.47018754e+00  1.11268451e+00 -3.38934859e-01\n",
      " -4.35771409e-01 -6.93486375e-01  7.46592596e-02  2.55805504e-01\n",
      "  5.13942636e-01  2.30324340e+00 -1.06882318e+00  2.03883269e+00\n",
      "  3.22518761e-01 -9.10875527e-01 -3.02735318e-01 -5.56889995e-01\n",
      "  1.00816213e+00 -1.35829776e-01 -9.50376787e-01  1.83084207e+00\n",
      "  2.41141657e-02 -2.51805320e+00 -6.99927184e-01 -4.69970333e-01\n",
      "  7.79221266e-01 -1.59279275e+00  1.33814057e+00  1.76979353e+00\n",
      " -1.24940929e+00 -1.12602883e-01  7.42261836e-01  1.47018755e+00\n",
      "  1.66460378e-02 -3.95104075e-01 -1.28305260e+00 -1.48068128e+00\n",
      " -1.15451948e-01  2.73401054e-01 -4.47049235e-01 -5.50569113e-01\n",
      "  1.53538696e+00  1.38938184e+00 -1.99632918e+00  1.55187058e+00\n",
      "  5.64475323e-01  1.99319055e+00  1.38552732e-01  1.81608789e+00\n",
      " -9.26245424e-01 -8.37513996e-01  1.32523988e+00  1.87362367e-01]\n"
     ]
    }
   ],
   "source": [
    "print(result)"
   ]
  },
  {
   "cell_type": "markdown",
   "id": "e44bcf8a-f083-48b0-ae8f-50065b1b771b",
   "metadata": {},
   "source": [
    "### Take two"
   ]
  },
  {
   "cell_type": "code",
   "execution_count": 25,
   "id": "3fa4ac9b-2424-40d3-9697-d7e95ca60626",
   "metadata": {},
   "outputs": [
    {
     "data": {
      "image/png": "[encoded data removed]",
      "text/plain": [
       "<Figure size 640x480 with 1 Axes>"
      ]
     },
     "metadata": {},
     "output_type": "display_data"
    }
   ],
   "source": [
    "random_values = np.random.rand(5000)\n",
    "def test(a):\n",
    "    return np.sqrt(2) * erfinv(2 * a -1)\n",
    "results_2 = test(random_values)\n",
    "plt.hist(results_2)\n",
    "plt.title('Inverse Method')\n",
    "plt.xlabel('a')\n",
    "plt.ylabel('b')\n",
    "plt.show()"
   ]
  },
  {
   "cell_type": "code",
   "execution_count": 26,
   "id": "d1110bbe-f787-40f2-9302-6e72746322e0",
   "metadata": {},
   "outputs": [
    {
     "name": "stdout",
     "output_type": "stream",
     "text": [
      "[ 1.48323724 -0.28534271 -0.80542091 ...  2.49387448 -0.47973414\n",
      " -0.41523127]\n"
     ]
    }
   ],
   "source": [
    "print(results_2)"
   ]
  },
  {
   "cell_type": "markdown",
   "id": "50255f92-32fd-45ee-9719-6f5954dfb7db",
   "metadata": {},
   "source": [
    "# Linear Algebra Eigen Vectore:\n",
    "### Practice"
   ]
  },
  {
   "cell_type": "code",
   "execution_count": 27,
   "id": "be1f3249-9ecc-4321-9fe0-edca89865f17",
   "metadata": {},
   "outputs": [
    {
     "name": "stdout",
     "output_type": "stream",
     "text": [
      "2\n",
      "2\n",
      "Eigen values: [-4.09509456 59.09509456] -4.095094555959157\n",
      "Eigen vactors: [[-0.82456484 -0.41597356]\n",
      " [ 0.56576746 -0.90937671]] [-0.82456484  0.56576746]\n",
      "Eigen values: [-4.09509456 59.09509456] 59.09509455595916\n",
      "Eigen vactors: [[-0.82456484 -0.41597356]\n",
      " [ 0.56576746 -0.90937671]] [-0.41597356 -0.90937671]\n"
     ]
    }
   ],
   "source": [
    "a = np.array([[11,22], [33,44]])\n",
    "eigen_values, eigen_vectors = np.linalg.eig(a)\n",
    "print(len(eigen_values))\n",
    "print(len(eigen_vectors))\n",
    "for i in range(len(eigen_values)):\n",
    "    result_0 = f\"Eigen values: {eigen_values} {eigen_values[i]}\"\n",
    "    result_1 = f\"Eigen vactors: {eigen_vectors} {eigen_vectors[:,i]}\"\n",
    "    print(result_0)\n",
    "    print(result_1)\n"
   ]
  },
  {
   "cell_type": "code",
   "execution_count": 28,
   "id": "a3e0d3f4-ffa7-4f4c-a5e3-cac2c6586b75",
   "metadata": {},
   "outputs": [
    {
     "name": "stdout",
     "output_type": "stream",
     "text": [
      "Eigen values: [ -1.67274083 144.67274083] -1.6727408260753975\n",
      "Eigen vactors: [[-0.75868086 -0.59276441]\n",
      " [ 0.65146248 -0.80537591]] [-0.75868086  0.65146248]\n",
      "Eigen values: [ -1.67274083 144.67274083] 144.6727408260754\n",
      "Eigen vactors: [[-0.75868086 -0.59276441]\n",
      " [ 0.65146248 -0.80537591]] [-0.59276441 -0.80537591]\n"
     ]
    }
   ],
   "source": [
    "a = np.array([[55,66], [77,88]])\n",
    "eigen_values, eigen_vectors = np.linalg.eig(a)\n",
    "for i in range(len(eigen_vectors)):\n",
    "    result_0 = f\"Eigen values: {eigen_values} {eigen_values[i]}\"\n",
    "    result_1 = f\"Eigen vactors: {eigen_vectors} {eigen_vectors[:,i]}\"\n",
    "    print(result_0)\n",
    "    print(result_1)"
   ]
  },
  {
   "cell_type": "markdown",
   "id": "050e91cc-6621-4198-aeed-0b28ca614104",
   "metadata": {},
   "source": [
    "### Take 3 "
   ]
  },
  {
   "cell_type": "code",
   "execution_count": 29,
   "id": "ec965db3-daf0-4263-bc56-46f520bd3188",
   "metadata": {},
   "outputs": [
    {
     "name": "stdout",
     "output_type": "stream",
     "text": [
      "eigen_values:[35.41839729 87.58160271] 35.41839728851005\n",
      "eigen_vecotrs:[[-0.78145288 -0.27124668]\n",
      " [ 0.62396426 -0.96250986]] [-0.78145288  0.62396426]\n",
      "eigen_values:[35.41839729 87.58160271] 87.58160271148995\n",
      "eigen_vecotrs:[[-0.78145288 -0.27124668]\n",
      " [ 0.62396426 -0.96250986]] [-0.27124668 -0.96250986]\n"
     ]
    }
   ],
   "source": [
    "x = np.array([[45,12],[34,78]])\n",
    "eigen_values, eigen_vectors = np.linalg.eig(x)\n",
    "for i in range(len(eigen_values)):\n",
    "    print(f'eigen_values:{eigen_values} {eigen_values[i]}')\n",
    "    print(f'eigen_vecotrs:{eigen_vectors} {eigen_vectors[:,i]}')"
   ]
  },
  {
   "cell_type": "code",
   "execution_count": null,
   "id": "f6f4e7a0-ec4f-4923-acc5-d217db08a9d0",
   "metadata": {},
   "outputs": [],
   "source": []
  }
 ],
 "metadata": {
  "kernelspec": {
   "display_name": "Python 3 (ipykernel)",
   "language": "python",
   "name": "python3"
  },
  "language_info": {
   "codemirror_mode": {
    "name": "ipython",
    "version": 3
   },
   "file_extension": ".py",
   "mimetype": "text/x-python",
   "name": "python",
   "nbconvert_exporter": "python",
   "pygments_lexer": "ipython3",
   "version": "3.11.5"
  }
 },
 "nbformat": 4,
 "nbformat_minor": 5
}
